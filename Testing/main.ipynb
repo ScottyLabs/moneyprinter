{
 "cells": [
  {
   "cell_type": "code",
   "execution_count": 1,
   "id": "eed669ac",
   "metadata": {},
   "outputs": [],
   "source": [
    "import pygsheets\n",
    "import pandas as pd\n",
    "import requests\n",
    "import secret\n",
    "from SendOperations import send_simple_message , send_template_message"
   ]
  },
  {
   "cell_type": "code",
   "execution_count": 2,
   "id": "d6c6589a",
   "metadata": {},
   "outputs": [],
   "source": [
    "gc = pygsheets.authorize(service_file='scotty-353808-bc21c60f8263.json')\n",
    "sh = gc.open('Sponsor Outreach')\n",
    "outreach = sh[1]\n",
    "negotiation = sh[2]\n",
    "api_key = secret.api_key\n",
    "domain = secret.domain"
   ]
  },
  {
   "cell_type": "code",
   "execution_count": 3,
   "id": "019d2b86",
   "metadata": {},
   "outputs": [],
   "source": [
    "def makeNewRow (row, negotiation_cols_list, filtered_cols_list):\n",
    "    result = {}\n",
    "    for colname in negotiation_cols_list:\n",
    "        if colname in filtered_cols_list:\n",
    "            result[colname] = row[colname]          \n",
    "        else:\n",
    "            result[colname] = \"Null\"           \n",
    "    return result"
   ]
  },
  {
   "cell_type": "code",
   "execution_count": 4,
   "id": "c6902395",
   "metadata": {},
   "outputs": [],
   "source": [
    "def removeNegotiationfromOutreach (outreach_df):\n",
    "    noNego = outreach_df[(outreach_df[\"Status\"] != \"Negotiating\")]\n",
    "    outreach.clear()\n",
    "    outreach.set_dataframe(noNego,(1,1))\n",
    "    "
   ]
  },
  {
   "cell_type": "code",
   "execution_count": 5,
   "id": "dc7b8d06",
   "metadata": {},
   "outputs": [],
   "source": [
    "def updateNegotiation (request):\n",
    "    outreach_df = outreach.get_as_df()\n",
    "    negotiation_df = negotiation.get_as_df()\n",
    "    #get the negotiating rows\n",
    "    filtereddf = outreach_df[(outreach_df[\"Status\"] == \"Negotiating\")]\n",
    "    filtered_cols_list = filtereddf.columns.to_list()\n",
    "    negotiation_cols_list = negotiation_df.columns.to_list()\n",
    "    \n",
    "    for index, row in filtereddf.iterrows():\n",
    "        newrow = makeNewRow (row, negotiation_cols_list, filtered_cols_list)\n",
    "        rowdf = pd.DataFrame(newrow,index=[0])\n",
    "        negotiation_df = pd.concat([negotiation_df, rowdf], ignore_index=True)\n",
    "        \n",
    "        \n",
    "    negotiation.set_dataframe(negotiation_df,(1,1))\n",
    "    removeNegotiationfromOutreach (outreach_df)\n",
    "    \n",
    "    return \"Successfully updated Negotiation\""
   ]
  }
 ],
 "metadata": {
  "kernelspec": {
   "display_name": "Python 3",
   "language": "python",
   "name": "python3"
  },
  "language_info": {
   "codemirror_mode": {
    "name": "ipython",
    "version": 3
   },
   "file_extension": ".py",
   "mimetype": "text/x-python",
   "name": "python",
   "nbconvert_exporter": "python",
   "pygments_lexer": "ipython3",
   "version": "3.8.8"
  }
 },
 "nbformat": 4,
 "nbformat_minor": 5
}
