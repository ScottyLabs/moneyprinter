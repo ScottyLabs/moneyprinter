{
 "cells": [
  {
   "cell_type": "code",
   "execution_count": 1,
   "id": "b42bda4e",
   "metadata": {},
   "outputs": [],
   "source": [
    "import pygsheets\n",
    "import pandas as pd\n",
    "import requests\n",
    "from SendOperations import send_simple_message , send_template_message\n",
    "import os\n",
    "gc = pygsheets.authorize(service_file = 'scottylabssponsor-9ee3dc6d59b9.json')\n",
    "sh = gc.open('Sponsor Outreach')\n",
    "outreach = sh[1]"
   ]
  },
  {
   "cell_type": "code",
   "execution_count": 2,
   "id": "d642a5fa",
   "metadata": {},
   "outputs": [
    {
     "data": {
      "text/html": [
       "<div>\n",
       "<style scoped>\n",
       "    .dataframe tbody tr th:only-of-type {\n",
       "        vertical-align: middle;\n",
       "    }\n",
       "\n",
       "    .dataframe tbody tr th {\n",
       "        vertical-align: top;\n",
       "    }\n",
       "\n",
       "    .dataframe thead th {\n",
       "        text-align: right;\n",
       "    }\n",
       "</style>\n",
       "<table border=\"1\" class=\"dataframe\">\n",
       "  <thead>\n",
       "    <tr style=\"text-align: right;\">\n",
       "      <th></th>\n",
       "      <th>Sponsor</th>\n",
       "      <th>POC</th>\n",
       "      <th>Email</th>\n",
       "      <th>ScottyLabs POC</th>\n",
       "      <th>Last Contacted Date</th>\n",
       "      <th>Sponsor POC</th>\n",
       "      <th>POC Contact</th>\n",
       "      <th>Status</th>\n",
       "      <th>Send New Email</th>\n",
       "    </tr>\n",
       "  </thead>\n",
       "  <tbody>\n",
       "    <tr>\n",
       "      <th>0</th>\n",
       "      <td>Scottylabs test</td>\n",
       "      <td>Tom</td>\n",
       "      <td>hello@gmail.com</td>\n",
       "      <td>me</td>\n",
       "      <td>6/5/2022</td>\n",
       "      <td>jan</td>\n",
       "      <td>999999999</td>\n",
       "      <td>Rejected</td>\n",
       "      <td>No</td>\n",
       "    </tr>\n",
       "    <tr>\n",
       "      <th>1</th>\n",
       "      <td>Scottylabs test</td>\n",
       "      <td>Tom</td>\n",
       "      <td>tloke@andrew.cmu.edu</td>\n",
       "      <td>me</td>\n",
       "      <td>6/5/2022</td>\n",
       "      <td>jan</td>\n",
       "      <td>999999999</td>\n",
       "      <td>Outreach</td>\n",
       "      <td>Yes</td>\n",
       "    </tr>\n",
       "    <tr>\n",
       "      <th>2</th>\n",
       "      <td>Scottylabs test</td>\n",
       "      <td>Tom</td>\n",
       "      <td>hello@gmail.com</td>\n",
       "      <td>me</td>\n",
       "      <td>6/5/2022</td>\n",
       "      <td>jan</td>\n",
       "      <td>999999999</td>\n",
       "      <td>Rejected</td>\n",
       "      <td>No</td>\n",
       "    </tr>\n",
       "    <tr>\n",
       "      <th>3</th>\n",
       "      <td>Scottylabs test</td>\n",
       "      <td>Tom</td>\n",
       "      <td>tzehng1@gmail.com</td>\n",
       "      <td>me</td>\n",
       "      <td>6/5/2022</td>\n",
       "      <td>jan</td>\n",
       "      <td>999999999</td>\n",
       "      <td>Outreach</td>\n",
       "      <td>Yes</td>\n",
       "    </tr>\n",
       "  </tbody>\n",
       "</table>\n",
       "</div>"
      ],
      "text/plain": [
       "           Sponsor  POC                 Email ScottyLabs POC  \\\n",
       "0  Scottylabs test  Tom       hello@gmail.com             me   \n",
       "1  Scottylabs test  Tom  tloke@andrew.cmu.edu             me   \n",
       "2  Scottylabs test  Tom       hello@gmail.com             me   \n",
       "3  Scottylabs test  Tom     tzehng1@gmail.com             me   \n",
       "\n",
       "  Last Contacted Date Sponsor POC  POC Contact    Status Send New Email  \n",
       "0            6/5/2022         jan    999999999  Rejected             No  \n",
       "1            6/5/2022         jan    999999999  Outreach            Yes  \n",
       "2            6/5/2022         jan    999999999  Rejected             No  \n",
       "3            6/5/2022         jan    999999999  Outreach            Yes  "
      ]
     },
     "execution_count": 2,
     "metadata": {},
     "output_type": "execute_result"
    }
   ],
   "source": [
    "# In[3]:\n",
    "df = outreach.get_as_df()\n",
    "df.head()"
   ]
  },
  {
   "cell_type": "code",
   "execution_count": 3,
   "id": "0a644ca0",
   "metadata": {},
   "outputs": [],
   "source": [
    "# In[5]:\n",
    "\n",
    "\n",
    "def getOutreachEmail (df):\n",
    "    filtereddf = df[(df[\"Status\"] == \"Outreach\") & (df[\"Send New Email\"] == \"Yes\")]\n",
    "    return filtereddf[\"Email\"].tolist()\n",
    "\n",
    "\n",
    "# In[7]:\n",
    "\n",
    "\n",
    "def checkValidStatusCode (response):\n",
    "    statusCode = response.status_code\n",
    "    if statusCode == 200:\n",
    "        return \"Emails Successfully Sent\"\n",
    "    else:\n",
    "        return \"Emails not sent, check Mailgun logs\"\n",
    "\n",
    "\n",
    "# In[17]:\n",
    "\n",
    "\n",
    "def resetStatus (sheet, df):\n",
    "    df[\"Send New Email\"] = df[\"Send New Email\"].apply (lambda x : \"No\")\n",
    "    sheet.set_dataframe(df,(1,1))\n",
    "\n",
    "\n",
    "# In[8]:\n",
    "\n",
    "\n",
    "def sendoutreach (request) :\n",
    "    response = send_template_message(getOutreachEmail(df), api_key, domain, template)\n",
    "    resetStatus (outreach, df)\n",
    "    return checkValidStatusCode (response)"
   ]
  },
  {
   "cell_type": "code",
   "execution_count": 4,
   "id": "a6be7598",
   "metadata": {},
   "outputs": [
    {
     "data": {
      "text/plain": [
       "'Emails Successfully Sent'"
      ]
     },
     "execution_count": 4,
     "metadata": {},
     "output_type": "execute_result"
    }
   ],
   "source": [
    "sendoutreach(\"hello\")"
   ]
  },
  {
   "cell_type": "code",
   "execution_count": null,
   "id": "b5a2937d",
   "metadata": {},
   "outputs": [],
   "source": []
  }
 ],
 "metadata": {
  "kernelspec": {
   "display_name": "Python 3",
   "language": "python",
   "name": "python3"
  },
  "language_info": {
   "codemirror_mode": {
    "name": "ipython",
    "version": 3
   },
   "file_extension": ".py",
   "mimetype": "text/x-python",
   "name": "python",
   "nbconvert_exporter": "python",
   "pygments_lexer": "ipython3",
   "version": "3.8.8"
  }
 },
 "nbformat": 4,
 "nbformat_minor": 5
}
