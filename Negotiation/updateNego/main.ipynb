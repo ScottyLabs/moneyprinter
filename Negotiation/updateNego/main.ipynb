{
 "cells": [
  {
   "cell_type": "code",
   "execution_count": 1,
   "id": "7c43eaa3",
   "metadata": {},
   "outputs": [],
   "source": [
    "import pygsheets\n",
    "import pandas as pd\n",
    "import requests\n",
    "import secret\n",
    "from SendOperations import send_simple_message , send_template_message"
   ]
  },
  {
   "cell_type": "code",
   "execution_count": 2,
   "id": "39c72501",
   "metadata": {},
   "outputs": [],
   "source": [
    "gc = pygsheets.authorize(service_file='scotty-353808-bc21c60f8263.json')\n",
    "sh = gc.open('Sponsor Outreach')\n",
    "negotiation = sh[2]\n",
    "deliverables = sh[3]\n",
    "api_key = secret.api_key\n",
    "domain = secret.domain"
   ]
  },
  {
   "cell_type": "code",
   "execution_count": 3,
   "id": "fb509d03",
   "metadata": {},
   "outputs": [],
   "source": [
    "def makeNewRow (row, deliverables_cols_list, filtered_cols_list):\n",
    "    result = {}\n",
    "    for colname in deliverables_cols_list:\n",
    "        if colname in filtered_cols_list:\n",
    "            result[colname] = row[colname]          \n",
    "        else:\n",
    "            result[colname] = \"Null\"           \n",
    "    return result"
   ]
  },
  {
   "cell_type": "code",
   "execution_count": 4,
   "id": "dca8dd3c",
   "metadata": {},
   "outputs": [],
   "source": [
    "def removeConfirmedfromNego (nego_df):\n",
    "    noConfirmed = nego_df[(nego_df[\"Status\"] != \"Confirmed\")]\n",
    "    negotiation.clear()\n",
    "    negotiation.set_dataframe(noConfirmed,(1,1))\n",
    "    "
   ]
  },
  {
   "cell_type": "code",
   "execution_count": 5,
   "id": "acbb5fc3",
   "metadata": {},
   "outputs": [],
   "source": [
    "def updateConfirmed (request):\n",
    "    negotiation_df = negotiation.get_as_df()\n",
    "    deliverables_df = deliverables.get_as_df()\n",
    "    #get the negotiating rows\n",
    "    filtereddf = negotiation_df[(negotiation_df[\"Status\"] == \"Confirmed\")]\n",
    "    filtered_cols_list = filtereddf.columns.to_list()\n",
    "    deliverables_cols_list = deliverables_df.columns.to_list()\n",
    "    \n",
    "    for index, row in filtereddf.iterrows():\n",
    "        newrow = makeNewRow (row, deliverables_cols_list, filtered_cols_list)\n",
    "        rowdf = pd.DataFrame(newrow,index=[0])\n",
    "        deliverables_df = pd.concat([deliverables_df, rowdf], ignore_index=True)\n",
    "        \n",
    "    \n",
    "    deliverables.clear()\n",
    "    deliverables.set_dataframe(deliverables_df,(1,1))\n",
    "    removeConfirmedfromNego (negotiation_df)\n",
    "    \n",
    "    return \"Successfully updated Deliverables\""
   ]
  },
  {
   "cell_type": "code",
   "execution_count": null,
   "id": "200b6e00",
   "metadata": {},
   "outputs": [],
   "source": []
  }
 ],
 "metadata": {
  "kernelspec": {
   "display_name": "Python 3",
   "language": "python",
   "name": "python3"
  },
  "language_info": {
   "codemirror_mode": {
    "name": "ipython",
    "version": 3
   },
   "file_extension": ".py",
   "mimetype": "text/x-python",
   "name": "python",
   "nbconvert_exporter": "python",
   "pygments_lexer": "ipython3",
   "version": "3.8.8"
  }
 },
 "nbformat": 4,
 "nbformat_minor": 5
}
