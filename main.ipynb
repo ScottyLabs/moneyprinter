{
 "cells": [
  {
   "cell_type": "code",
   "execution_count": 1,
   "id": "af9a4928",
   "metadata": {},
   "outputs": [],
   "source": [
    "import pygsheets\n",
    "import pandas as pd\n",
    "import requests\n",
    "import secret\n",
    "from SendOperations import send_simple_message , send_template_message"
   ]
  },
  {
   "cell_type": "code",
   "execution_count": 2,
   "id": "2278d4dd",
   "metadata": {},
   "outputs": [],
   "source": [
    "gc = pygsheets.authorize(service_file='scotty-353808-bc21c60f8263.json')\n",
    "sh = gc.open('Sponsor Outreach')\n",
    "outreach = sh[1]\n",
    "api_key = secret.api_key\n",
    "domain = secret.domain"
   ]
  },
  {
   "cell_type": "code",
   "execution_count": 3,
   "id": "4b416f68",
   "metadata": {},
   "outputs": [],
   "source": [
    "df = outreach.get_as_df()"
   ]
  },
  {
   "cell_type": "code",
   "execution_count": 4,
   "id": "704d4d5c",
   "metadata": {},
   "outputs": [],
   "source": [
    "def getOutreachEmail (df):\n",
    "    filtereddf = df[(df[\"Status\"] == \"Outreach\") & (df[\"Send New Email\"] == \"Yes\")]\n",
    "    return filtereddf[\"Email\"].tolist()"
   ]
  },
  {
   "cell_type": "code",
   "execution_count": 5,
   "id": "b3c4e77b",
   "metadata": {},
   "outputs": [],
   "source": [
    "def checkValidStatusCode (response):\n",
    "    statusCode = response.status_code\n",
    "    if statusCode == 200:\n",
    "        return \"Emails Successfully Sent\"\n",
    "    else:\n",
    "        return \"Emails not sent, check Mailgun logs\""
   ]
  },
  {
   "cell_type": "code",
   "execution_count": 6,
   "id": "b1b47351",
   "metadata": {},
   "outputs": [],
   "source": [
    "def resetStatus (sheet, df):\n",
    "    df[\"Send New Email\"] = df[\"Send New Email\"].apply (lambda x : \"No\")\n",
    "    sheet.set_dataframe(df,(1,1))"
   ]
  },
  {
   "cell_type": "code",
   "execution_count": 7,
   "id": "5c1755fa",
   "metadata": {},
   "outputs": [],
   "source": [
    "def sendoutreach (request) :\n",
    "    emailingList = getOutreachEmail(df)\n",
    "    response = send_template_message(emailingList, api_key, domain)\n",
    "    resetStatus (outreach, df)\n",
    "    return checkValidStatusCode (response)"
   ]
  },
  {
   "cell_type": "code",
   "execution_count": 8,
   "id": "08b0c395",
   "metadata": {},
   "outputs": [
    {
     "data": {
      "text/plain": [
       "['tloke@andrew.cmu.edu', 'tzehng1@gmail.com']"
      ]
     },
     "execution_count": 8,
     "metadata": {},
     "output_type": "execute_result"
    }
   ],
   "source": [
    "getOutreachEmail(df)"
   ]
  },
  {
   "cell_type": "code",
   "execution_count": 10,
   "id": "63d2fe58",
   "metadata": {},
   "outputs": [
    {
     "data": {
      "text/plain": [
       "'Emails Successfully Sent'"
      ]
     },
     "execution_count": 10,
     "metadata": {},
     "output_type": "execute_result"
    }
   ],
   "source": [
    "sendoutreach (\"x\")"
   ]
  },
  {
   "cell_type": "code",
   "execution_count": null,
   "id": "40e9e7a0",
   "metadata": {},
   "outputs": [],
   "source": []
  }
 ],
 "metadata": {
  "kernelspec": {
   "display_name": "Python 3",
   "language": "python",
   "name": "python3"
  },
  "language_info": {
   "codemirror_mode": {
    "name": "ipython",
    "version": 3
   },
   "file_extension": ".py",
   "mimetype": "text/x-python",
   "name": "python",
   "nbconvert_exporter": "python",
   "pygments_lexer": "ipython3",
   "version": "3.8.8"
  }
 },
 "nbformat": 4,
 "nbformat_minor": 5
}
