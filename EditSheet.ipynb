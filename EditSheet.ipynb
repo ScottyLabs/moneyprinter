{
 "cells": [
  {
   "cell_type": "code",
   "execution_count": 1,
   "id": "af9a4928",
   "metadata": {},
   "outputs": [],
   "source": [
    "import pygsheets\n",
    "import pandas as pd\n",
    "import requests\n",
    "import secret\n",
    "from SendOperations import send_simple_message , send_template_message"
   ]
  },
  {
   "cell_type": "code",
   "execution_count": 2,
   "id": "2278d4dd",
   "metadata": {},
   "outputs": [],
   "source": [
    "gc = pygsheets.authorize(service_file='scotty-353808-bc21c60f8263.json')\n",
    "sh = gc.open('Sponsor Outreach')\n",
    "outReach = sh[1]\n",
    "api_key = secret.api_key\n",
    "domain = secret.domain"
   ]
  },
  {
   "cell_type": "code",
   "execution_count": 3,
   "id": "4b416f68",
   "metadata": {},
   "outputs": [],
   "source": [
    "df = outReach.get_as_df()"
   ]
  },
  {
   "cell_type": "code",
   "execution_count": 4,
   "id": "704d4d5c",
   "metadata": {},
   "outputs": [],
   "source": [
    "def getOutreachEmail (df):\n",
    "    filtereddf = df[df[\"Status\"] == \"Outreach\"]\n",
    "    return filtereddf[\"Email\"].tolist()"
   ]
  },
  {
   "cell_type": "code",
   "execution_count": 5,
   "id": "b3c4e77b",
   "metadata": {},
   "outputs": [],
   "source": [
    "def checkValidStatusCode (response):\n",
    "    statusCode = response.status_code\n",
    "    if statusCode == 200:\n",
    "        print(\"Emails Successfully Sent\")\n",
    "    else:\n",
    "        print(\"Emails not sent, check Mailgun logs\")"
   ]
  },
  {
   "cell_type": "code",
   "execution_count": 6,
   "id": "5c1755fa",
   "metadata": {},
   "outputs": [],
   "source": [
    "response = send_template_message(getOutreachEmail(df), api_key, domain)"
   ]
  },
  {
   "cell_type": "code",
   "execution_count": 7,
   "id": "d7afdfa9",
   "metadata": {},
   "outputs": [
    {
     "name": "stdout",
     "output_type": "stream",
     "text": [
      "Emails Successfully Sent\n"
     ]
    }
   ],
   "source": [
    "checkValidStatusCode (response)"
   ]
  },
  {
   "cell_type": "code",
   "execution_count": null,
   "id": "52428f53",
   "metadata": {},
   "outputs": [],
   "source": []
  }
 ],
 "metadata": {
  "kernelspec": {
   "display_name": "Python 3",
   "language": "python",
   "name": "python3"
  },
  "language_info": {
   "codemirror_mode": {
    "name": "ipython",
    "version": 3
   },
   "file_extension": ".py",
   "mimetype": "text/x-python",
   "name": "python",
   "nbconvert_exporter": "python",
   "pygments_lexer": "ipython3",
   "version": "3.8.8"
  }
 },
 "nbformat": 4,
 "nbformat_minor": 5
}
